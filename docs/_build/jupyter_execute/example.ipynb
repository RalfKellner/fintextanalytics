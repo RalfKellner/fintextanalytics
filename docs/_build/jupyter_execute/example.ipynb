{
 "cells": [
  {
   "attachments": {},
   "cell_type": "markdown",
   "metadata": {},
   "source": [
    "# Example usage\n"
   ]
  },
  {
   "attachments": {},
   "cell_type": "markdown",
   "metadata": {},
   "source": [
    "## Preprocess some text\n",
    "\n",
    "The package has a simple function for preprocessing text. The function uses a combination of preprocessing function from the [gensim](https://radimrehurek.com/gensim/) package."
   ]
  },
  {
   "cell_type": "code",
   "execution_count": 1,
   "metadata": {},
   "outputs": [
    {
     "name": "stdout",
     "output_type": "stream",
     "text": [
      ">Item 1A.    Risk Factors The Company’s business, reputation, results of operations, financial condition and stock price can be affected by a number of factors, whether currently known or unknown, inc\n",
      "['item', 'risk', 'factors', 'the', 'company', 'business', 'reputation', 'results', 'of', 'operations', 'financial', 'condition', 'and', 'stock', 'price', 'can', 'be', 'affected', 'by', 'number', 'of', 'factors', 'whether', 'currently', 'known']\n"
     ]
    }
   ],
   "source": [
    "from fintextanalytics.utils import load_example_text, text_preprocessor\n",
    "\n",
    "# this is a 1a item from a 10K report of Apple\n",
    "text = load_example_text()\n",
    "# raw text\n",
    "print(text[:200])\n",
    "# the preprocessing function returns a list of tokens\n",
    "print(text_preprocessor(text)[:25])"
   ]
  },
  {
   "attachments": {},
   "cell_type": "markdown",
   "metadata": {},
   "source": [
    "## Split a document into preprocessed sentences"
   ]
  },
  {
   "cell_type": "code",
   "execution_count": 2,
   "metadata": {},
   "outputs": [
    {
     "name": "stdout",
     "output_type": "stream",
     "text": [
      "                                            raw_text  \\\n",
      "0                                          >Item 1A.   \n",
      "1  Risk Factors The Company’s business, reputatio...   \n",
      "2  When any one or more of these risks materializ...   \n",
      "3  Because of the following factors, as well as o...   \n",
      "4  This discussion of risk factors contains forwa...   \n",
      "\n",
      "                                           prep_text  use_doc  \n",
      "0                                               item    False  \n",
      "1  risk,factors,the,company,business,reputation,r...     True  \n",
      "2  when,any,one,or,more,of,these,risks,materializ...     True  \n",
      "3  because,of,the,following,factors,as,well,as,ot...     True  \n",
      "4  this,discussion,of,risk,factors,contains,forwa...    False  \n",
      "                                            raw_text  \\\n",
      "0                                          >Item 1A.   \n",
      "1  Risk Factors The Company’s business, reputatio...   \n",
      "2  When any one or more of these risks materializ...   \n",
      "3  Because of the following factors, as well as o...   \n",
      "4  This discussion of risk factors contains forwa...   \n",
      "\n",
      "                                           prep_text  use_doc company  \n",
      "0                                               item    False   Apple  \n",
      "1  risk,factors,the,company,business,reputation,r...     True   Apple  \n",
      "2  when,any,one,or,more,of,these,risks,materializ...     True   Apple  \n",
      "3  because,of,the,following,factors,as,well,as,ot...     True   Apple  \n",
      "4  this,discussion,of,risk,factors,contains,forwa...    False   Apple  \n"
     ]
    }
   ],
   "source": [
    "from fintextanalytics.utils import load_example_text, report2sentences\n",
    "\n",
    "# this is a 1a item from a 10K report of Apple\n",
    "text = load_example_text()\n",
    "\n",
    "# preprocessed sentence dataframe\n",
    "print(report2sentences(text).head())\n",
    "\n",
    "# you can also add metadata which is added columnwise\n",
    "print(report2sentences(text, company = 'Apple').head())"
   ]
  },
  {
   "cell_type": "code",
   "execution_count": null,
   "metadata": {},
   "outputs": [],
   "source": []
  }
 ],
 "metadata": {
  "kernelspec": {
   "display_name": "fintextanalytics",
   "language": "python",
   "name": "fintextanalytics"
  },
  "language_info": {
   "codemirror_mode": {
    "name": "ipython",
    "version": 3
   },
   "file_extension": ".py",
   "mimetype": "text/x-python",
   "name": "python",
   "nbconvert_exporter": "python",
   "pygments_lexer": "ipython3",
   "version": "3.9.16"
  }
 },
 "nbformat": 4,
 "nbformat_minor": 4
}